{
 "cells": [
  {
   "cell_type": "markdown",
   "metadata": {},
   "source": [
    "# Confirm that drawing parameters in Python matches those in R"
   ]
  },
  {
   "cell_type": "markdown",
   "metadata": {},
   "source": [
    "## Import Module"
   ]
  },
  {
   "cell_type": "code",
   "execution_count": 1,
   "metadata": {},
   "outputs": [],
   "source": [
    "import sys, os\n",
    "import matplotlib.pyplot as plt\n",
    "os.chdir('/Users/jussm/Documents/git_DTU/exray-master/')\n",
    "sys.path.append('/PyMB_DTU/Examples/')\n",
    "\n",
    "\n",
    "from PyMB_DTU.PyMB import model as PyMB"
   ]
  },
  {
   "cell_type": "code",
   "execution_count": 2,
   "metadata": {},
   "outputs": [
    {
     "name": "stdout",
     "output_type": "stream",
     "text": [
      "Make sure this is the correct directory:\n",
      "/Users/jussm/Documents/git_DTU\n"
     ]
    }
   ],
   "source": [
    "os.chdir('..')\n",
    "\n",
    "# Make sure this is set correctly.\n",
    "print('Make sure this is the correct directory:')\n",
    "print( os.getcwd() )\n",
    "\n",
    "import os\n",
    "# Replace '/path/to/R/home' with the actual path you got from running 'R RHOME'\n",
    "\n",
    "\n",
    "# We import the PyMB module from directory PyMB-DTU/PyMB\n",
    "#rom PyMB_DTU.PyMB import *"
   ]
  },
  {
   "cell_type": "markdown",
   "metadata": {},
   "source": [
    "## Create a new model"
   ]
  },
  {
   "cell_type": "code",
   "execution_count": 3,
   "metadata": {},
   "outputs": [],
   "source": [
    "m = PyMB.model(name='linreg')"
   ]
  },
  {
   "cell_type": "code",
   "execution_count": 4,
   "metadata": {},
   "outputs": [],
   "source": [
    "linreg_code = '''\n",
    "#include \n",
    "template\n",
    "Type objective_function::operator() (){\n",
    "// DATA\n",
    "  DATA_VECTOR(Y);\n",
    "  DATA_VECTOR(x);\n",
    "\n",
    "// PARAMETERS\n",
    "  PARAMETER(alpha);\n",
    "  PARAMETER(Beta);\n",
    "  PARAMETER(logSigma);\n",
    "\n",
    "// MODEL\n",
    "  vector Y_hat = alpha + Beta*x;\n",
    "  REPORT(Y_hat);\n",
    "  Type nll = -sum(dnorm(Y, Y_hat, exp(logSigma), true));\n",
    "  return nll;\n",
    "}\n",
    "'''"
   ]
  },
  {
   "cell_type": "code",
   "execution_count": 5,
   "metadata": {},
   "outputs": [
    {
     "name": "stdout",
     "output_type": "stream",
     "text": [
      "Using ~/Documents/git_DTU/exray-master/PyMB_DTU/Examples/linreg.cpp.\n",
      "\n",
      "R version 4.3.2 (2023-10-31) -- \"Eye Holes\"\n",
      "Copyright (C) 2023 The R Foundation for Statistical Computing\n",
      "Platform: aarch64-apple-darwin20 (64-bit)\n",
      "\n",
      "R is free software and comes with ABSOLUTELY NO WARRANTY.\n",
      "You are welcome to redistribute it under certain conditions.\n",
      "Type 'license()' or 'licence()' for distribution details.\n",
      "\n",
      "  Natural language support but running in an English locale\n",
      "\n",
      "R is a collaborative project with many contributors.\n",
      "Type 'contributors()' for more information and\n",
      "'citation()' on how to cite R or R packages in publications.\n",
      "\n",
      "Type 'demo()' for some demos, 'help()' for on-line help, or\n",
      "'help.start()' for an HTML browser interface to help.\n",
      "Type 'q()' to quit R.\n",
      "\n",
      "> TMB::compile(\"~/Documents/git_DTU/exray-master/PyMB_DTU/Examples/linreg.cpp\")\n",
      "make: Nothing to be done for `all'.\n",
      "[1] 0\n",
      "> \n",
      "> \n",
      "Compiled in 0.6s.\n",
      "\n"
     ]
    },
    {
     "name": "stderr",
     "output_type": "stream",
     "text": [
      "using C++ compiler: ‘Apple clang version 15.0.0 (clang-1500.3.9.4)’\n",
      "using SDK: ‘MacOSX14.4.sdk’\n",
      "Advarselsbeskeder:\n",
      "1: I checkMatrixPackageVersion(getOption(\"TMB.check.Matrix\", TRUE)) :\n",
      "  Package version inconsistency detected.\n",
      "TMB was built with Matrix ABI version 1\n",
      "Current Matrix ABI version is 0\n",
      "Please re-install 'TMB' from source using install.packages('TMB', type = 'source') or ask CRAN for a binary version of 'TMB' matching CRAN's 'Matrix' package\n",
      "2: I readLines(file) :\n",
      "  ufuldstændig endelig linje fundet på '~/Documents/git_DTU/exray-master/PyMB_DTU/Examples/linreg.cpp'\n"
     ]
    }
   ],
   "source": [
    "m.compile(codestr=linreg_code, output_dir='~/Documents/git_DTU/exray-master/PyMB_DTU/Examples', use_R_compiler=True)"
   ]
  },
  {
   "cell_type": "code",
   "execution_count": 6,
   "metadata": {},
   "outputs": [
    {
     "data": {
      "text/plain": [
       "[<matplotlib.lines.Line2D at 0x31cec9410>]"
      ]
     },
     "execution_count": 6,
     "metadata": {},
     "output_type": "execute_result"
    },
    {
     "data": {
      "image/png": "[encoded data removed]",
      "text/plain": [
       "<Figure size 640x480 with 1 Axes>"
      ]
     },
     "metadata": {},
     "output_type": "display_data"
    }
   ],
   "source": [
    "import numpy as np\n",
    "m.data['x'] = np.arange(10)\n",
    "m.data['Y'] = m.data['x'] + 0.5 + np.random.rand(10)\n",
    "plt.plot(m.data['x'], m.data['Y'], 'o')"
   ]
  },
  {
   "cell_type": "code",
   "execution_count": 7,
   "metadata": {},
   "outputs": [
    {
     "data": {
      "text/plain": [
       "{'alpha': [1.5, 0, 3], 'Beta': [1, -1, 3], 'logSigma': [0.5, -1, 1]}"
      ]
     },
     "execution_count": 7,
     "metadata": {},
     "output_type": "execute_result"
    }
   ],
   "source": [
    "m.init['alpha'] = [1.5, 0, 3]\n",
    "m.init['Beta'] = [1, -1, 3] \n",
    "m.init['logSigma'] = [0.5, -1, 1]\n",
    "\n",
    "m.init\n",
    "\n"
   ]
  },
  {
   "cell_type": "code",
   "execution_count": 8,
   "metadata": {},
   "outputs": [
    {
     "name": "stdout",
     "output_type": "stream",
     "text": [
      "$par\n",
      "   alpha     Beta logSigma \n",
      "     1.5      1.0      0.5 \n",
      "\n",
      "$fn\n",
      "function (x = last.par[lfixed()], ...) \n",
      "{\n",
      "    if (tracepar) {\n",
      "        cat(\"par:\\n\")\n",
      "        print(x)\n",
      "    }\n",
      "    if (!validpar(x)) \n",
      "        return(NaN)\n",
      "    if (is.null(random)) {\n",
      "        ans <- f(x, order = 0)\n",
      "        if (!ADreport) {\n",
      "            if (is.finite(ans) && ans < value.best) {\n",
      "                last.par.best <<- x\n",
      "                value.best <<- ans\n",
      "            }\n",
      "        }\n",
      "    }\n",
      "    else {\n",
      "        ans <- try({\n",
      "            if (MCcontrol$doMC) {\n",
      "                ff(x, order = 0)\n",
      "                MC(last.par, n = MCcontrol$n, seed = MCcontrol$seed, \n",
      "                  order = 0)\n",
      "            }\n",
      "            else ff(x, order = 0)\n",
      "        }, silent = silent)\n",
      "        if (is.character(ans)) \n",
      "            ans <- NaN\n",
      "    }\n",
      "    ans\n",
      "}\n",
      "<bytecode: 0x31d6800c8>\n",
      "<environment: 0x137982f48>\n",
      "\n",
      "$gr\n",
      "function (x = last.par[lfixed()], ...) \n",
      "{\n",
      "    if (is.null(random)) {\n",
      "        ans <- f(x, order = 1)\n",
      "    }\n",
      "    else {\n",
      "        ans <- try({\n",
      "            if (MCcontrol$doMC) {\n",
      "                ff(x, order = 0)\n",
      "                MC(last.par, n = MCcontrol$n, seed = MCcontrol$seed, \n",
      "                  order = 1)\n",
      "            }\n",
      "            else ff(x, order = 1)\n",
      "        }, silent = silent)\n",
      "        if (is.character(ans)) \n",
      "            ans <- rep(NaN, length(x))\n",
      "    }\n",
      "    if (tracemgc) \n",
      "        cat(\"outer mgc: \", max(abs(ans)), \"\\n\")\n",
      "    ans\n",
      "}\n",
      "<bytecode: 0x31d686738>\n",
      "<environment: 0x137982f48>\n",
      "\n",
      "$he\n",
      "function (x = last.par[lfixed()], atomic = usingAtomics()) \n",
      "{\n",
      "    if (is.null(random)) {\n",
      "        if (!atomic) \n",
      "            return(f(x, order = 2))\n",
      "        if (is.null(ADGrad)) \n",
      "            retape_adgrad()\n",
      "        return(f(x, type = \"ADGrad\", order = 1))\n",
      "    }\n",
      "    else {\n",
      "        stop(\"Hessian not yet implemented for models with random effects.\")\n",
      "    }\n",
      "}\n",
      "<bytecode: 0x31d688e70>\n",
      "<environment: 0x137982f48>\n",
      "\n",
      "$hessian\n",
      "[1] TRUE\n",
      "\n",
      "$method\n",
      "[1] \"BFGS\"\n",
      "\n",
      "$retape\n",
      "function (set.defaults = TRUE) \n",
      "{\n",
      "    omp <- config(DLL = DLL)\n",
      "    random <<- .random\n",
      "    if (atomic) {\n",
      "        Fun <<- MakeDoubleFunObject(data, parameters, reportenv, \n",
      "            DLL = DLL)\n",
      "        out <- EvalDoubleFunObject(Fun, unlist(parameters), get_reportdims = TRUE)\n",
      "        ADreportDims <<- attr(out, \"reportdims\")\n",
      "    }\n",
      "    if (is.character(profile)) {\n",
      "        random <<- c(random, profile)\n",
      "    }\n",
      "    if (is.character(random)) {\n",
      "        if (!regexp) {\n",
      "            if (!all(random %in% names(parameters))) {\n",
      "                cat(\"Some 'random' effect names does not match 'parameter' list:\\n\")\n",
      "                print(setdiff(random, names(parameters)))\n",
      "                cat(\"(Note that regular expression match is disabled by default)\\n\")\n",
      "                stop()\n",
      "            }\n",
      "            if (any(duplicated(random))) {\n",
      "                cat(\"Duplicates in 'random' - will be removed\\n\")\n",
      "                random <<- unique(random)\n",
      "            }\n",
      "            tmp <- lapply(parameters, function(x) x * 0)\n",
      "            tmp[random] <- lapply(tmp[random], function(x) x * \n",
      "                0 + 1)\n",
      "            random <<- which(as.logical(unlist(tmp)))\n",
      "            if (length(random) == 0) \n",
      "                random <<- NULL\n",
      "        }\n",
      "        if (regexp) {\n",
      "            random <<- grepRandomParameters(parameters, random)\n",
      "            if (length(random) == 0) {\n",
      "                cat(\"Selected random effects did not match any model parameters.\\n\")\n",
      "                random <<- NULL\n",
      "            }\n",
      "        }\n",
      "        if (is.character(profile)) {\n",
      "            tmp <- lapply(parameters, function(x) x * 0)\n",
      "            tmp[profile] <- lapply(tmp[profile], function(x) x * \n",
      "                0 + 1)\n",
      "            profile <<- match(which(as.logical(unlist(tmp))), \n",
      "                random)\n",
      "            if (length(profile) == 0) \n",
      "                random <<- NULL\n",
      "            if (any(duplicated(profile))) \n",
      "                stop(\"Profile parameter vector not unique.\")\n",
      "            tmp <- rep(0L, length(random))\n",
      "            tmp[profile] <- 1L\n",
      "            profile <<- tmp\n",
      "        }\n",
      "        if (set.defaults) {\n",
      "            par <<- unlist(parameters)\n",
      "        }\n",
      "    }\n",
      "    if (\"ADFun\" %in% type) {\n",
      "        if (omp$autopar) \n",
      "            openmp(1, DLL = DLL)\n",
      "        ADFun <<- MakeADFunObject(data, parameters, reportenv, \n",
      "            ADreport = ADreport, DLL = DLL)\n",
      "        if (omp$autopar) \n",
      "            openmp(omp$nthreads, DLL = DLL)\n",
      "        if (!is.null(integrate)) {\n",
      "            nm <- sapply(parameters, length)\n",
      "            nmpar <- rep(names(nm), nm)\n",
      "            for (i in seq_along(integrate)) {\n",
      "                I <- integrate[i]\n",
      "                if (is.null(names(I)) || names(I) == \"\") {\n",
      "                  I <- I[[1]]\n",
      "                }\n",
      "                ok <- all(names(I) %in% nmpar[random])\n",
      "                if (!ok) \n",
      "                  stop(\"Names to be 'integrate'd must be among the random parameters\")\n",
      "                w <- which(nmpar[random] %in% names(I))\n",
      "                arg_which <- I[[1]]$which\n",
      "                if (!is.null(arg_which)) \n",
      "                  w <- w[arg_which]\n",
      "                method <- sapply(I, function(x) x$method)\n",
      "                ok <- all(duplicated(method)[-1])\n",
      "                if (!ok) \n",
      "                  stop(\"Grouping only allowed for identical methods\")\n",
      "                method <- method[1]\n",
      "                cfg <- NULL\n",
      "                if (method == \"marginal_sr\") {\n",
      "                  fac <- factor(nmpar[random[w]], levels = names(I))\n",
      "                  cfg <- list(grid = I, random2grid = fac)\n",
      "                }\n",
      "                else {\n",
      "                  cfg <- I[[1]]\n",
      "                }\n",
      "                stopifnot(is.list(cfg))\n",
      "                TransformADFunObject(ADFun, method = method, \n",
      "                  random_order = random[w], config = cfg, mustWork = 1L)\n",
      "                activeDomain <- as.logical(info(ADFun)$activeDomain)\n",
      "                random_remove <- random[w][!activeDomain[random[w]]]\n",
      "                TransformADFunObject(ADFun, method = \"remove_random_parameters\", \n",
      "                  random_order = random_remove, mustWork = 1L)\n",
      "                attr(ADFun$ptr, \"par\") <- attr(ADFun$ptr, \"par\")[-random_remove]\n",
      "                par_mask <- rep(FALSE, length(attr(ADFun$ptr, \n",
      "                  \"par\")))\n",
      "                par_mask[random] <- TRUE\n",
      "                par <<- par[-random_remove]\n",
      "                nmpar <- nmpar[-random_remove]\n",
      "                par_mask <- par_mask[-random_remove]\n",
      "                random <<- which(par_mask)\n",
      "                if (length(random) == 0) {\n",
      "                  random <<- NULL\n",
      "                  type <<- setdiff(type, \"ADGrad\")\n",
      "                }\n",
      "                if (config(DLL = DLL)$optimize.instantly) {\n",
      "                  TransformADFunObject(ADFun, method = \"optimize\", \n",
      "                    mustWork = 1L)\n",
      "                }\n",
      "            }\n",
      "        }\n",
      "        if (intern) {\n",
      "            cfg <- inner.control\n",
      "            if (is.null(cfg$sparse)) \n",
      "                cfg$sparse <- TRUE\n",
      "            cfg <- lapply(cfg, as.double)\n",
      "            TransformADFunObject(ADFun, method = \"laplace\", config = cfg, \n",
      "                random_order = random, mustWork = 1L)\n",
      "            TransformADFunObject(ADFun, method = \"remove_random_parameters\", \n",
      "                random_order = random, mustWork = 1L)\n",
      "            attr(ADFun$ptr, \"par\") <- attr(ADFun$ptr, \"par\")[-random]\n",
      "            par <<- par[-random]\n",
      "            random <<- NULL\n",
      "            if (config(DLL = DLL)$optimize.instantly) {\n",
      "                TransformADFunObject(ADFun, method = \"optimize\", \n",
      "                  mustWork = 1L)\n",
      "            }\n",
      "        }\n",
      "        if (set.defaults) {\n",
      "            par <<- attr(ADFun$ptr, \"par\")\n",
      "            last.par <<- par\n",
      "            last.par1 <<- par\n",
      "            last.par2 <<- par\n",
      "            last.par.best <<- par\n",
      "            value.best <<- Inf\n",
      "        }\n",
      "    }\n",
      "    if (omp$autopar && !ADreport) {\n",
      "        TransformADFunObject(ADFun, method = \"parallel_accumulate\", \n",
      "            num_threads = as.integer(openmp(DLL = DLL)), mustWork = 0L)\n",
      "    }\n",
      "    if (length(random) > 0) {\n",
      "        TransformADFunObject(ADFun, method = \"reorder_random\", \n",
      "            random_order = random, mustWork = 0L)\n",
      "    }\n",
      "    if (\"Fun\" %in% type) {\n",
      "        Fun <<- MakeDoubleFunObject(data, parameters, reportenv, \n",
      "            DLL = DLL)\n",
      "    }\n",
      "    if (\"ADGrad\" %in% type) {\n",
      "        retape_adgrad(lazy = TRUE)\n",
      "    }\n",
      "    env$skipFixedEffects <- !is.null(ADGrad)\n",
      "    delayedAssign(\"spHess\", sparseHessianFun(env, skipFixedEffects = skipFixedEffects), \n",
      "        assign.env = env)\n",
      "}\n",
      "<bytecode: 0x31d614a18>\n",
      "<environment: 0x137982f48>\n",
      "\n",
      "$env\n",
      "<environment: 0x137982f48>\n",
      "\n",
      "$report\n",
      "function (par = last.par) \n",
      "{\n",
      "    f(par, order = 0, type = \"double\")\n",
      "    as.list(reportenv)\n",
      "}\n",
      "<bytecode: 0x31d67a8c8>\n",
      "<environment: 0x137982f48>\n",
      "\n",
      "$simulate\n",
      "function (par = last.par, complete = FALSE) \n",
      "{\n",
      "    f(par, order = 0, type = \"double\", do_simulate = TRUE)\n",
      "    sim <- as.list(reportenv)\n",
      "    if (complete) {\n",
      "        ans <- data\n",
      "        ans[names(sim)] <- sim\n",
      "    }\n",
      "    else {\n",
      "        ans <- sim\n",
      "    }\n",
      "    ans\n",
      "}\n",
      "<bytecode: 0x31d67a510>\n",
      "<environment: 0x137982f48>\n",
      "\n",
      "\n"
     ]
    }
   ],
   "source": [
    "m.random = ['alpha', 'Beta']\n",
    "\n",
    "m.build_objective_function()\n",
    "print(m.model)"
   ]
  },
  {
   "cell_type": "code",
   "execution_count": 9,
   "metadata": {},
   "outputs": [
    {
     "name": "stdout",
     "output_type": "stream",
     "text": [
      "\n",
      "Model optimization complete in 0.0s.\n",
      "\n",
      "\n",
      "--------------------------------------------------------------------------------\n",
      "\n"
     ]
    }
   ],
   "source": [
    "m.optimize(noparams=True)"
   ]
  },
  {
   "cell_type": "code",
   "execution_count": 10,
   "metadata": {},
   "outputs": [
    {
     "data": {
      "text/plain": [
       "[<matplotlib.lines.Line2D at 0x324138d90>]"
      ]
     },
     "execution_count": 10,
     "metadata": {},
     "output_type": "execute_result"
    },
    {
     "data": {
      "image/png": "[encoded data removed]",
      "text/plain": [
       "<Figure size 640x480 with 1 Axes>"
      ]
     },
     "metadata": {},
     "output_type": "display_data"
    }
   ],
   "source": [
    "m.report('Y_hat')\n",
    "\n",
    "plt.plot(m.data['x'], m.report('Y_hat'), 'r-')\n",
    "plt.plot(m.data['x'], m.data['Y'], 'o')\n"
   ]
  }
 ],
 "metadata": {
  "kernelspec": {
   "display_name": "Python 3",
   "language": "python",
   "name": "python3"
  },
  "language_info": {
   "codemirror_mode": {
    "name": "ipython",
    "version": 3
   },
   "file_extension": ".py",
   "mimetype": "text/x-python",
   "name": "python",
   "nbconvert_exporter": "python",
   "pygments_lexer": "ipython3",
   "version": "3.11.9"
  }
 },
 "nbformat": 4,
 "nbformat_minor": 2
}
